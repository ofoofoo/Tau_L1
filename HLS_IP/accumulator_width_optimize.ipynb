{
 "cells": [
  {
   "cell_type": "code",
   "execution_count": 20,
   "id": "0161f521-ab87-41cf-ad05-55023598ff6c",
   "metadata": {},
   "outputs": [],
   "source": [
    "import uproot4\n",
    "import numpy as np\n",
    "import awkward as ak\n",
    "from scipy.stats import norm\n",
    "from scipy.optimize import curve_fit\n",
    "import os\n",
    "import copy\n",
    "\n",
    "import tensorflow.keras as keras\n",
    "import tensorflow as tf\n",
    "\n",
    "from sklearn.model_selection import train_test_split\n",
    "from tensorflow.keras.layers import *\n",
    "from tensorflow.keras.models import Model, Sequential, load_model\n",
    "import tensorflow_model_optimization as tfmot\n",
    "\n",
    "from sklearn.metrics import roc_curve\n",
    "from sklearn.metrics import auc\n",
    "from sklearn.model_selection import train_test_split\n",
    "\n",
    "import optparse\n",
    "import importlib\n",
    "import pathlib\n",
    "from keras import optimizers\n",
    "from qkeras.quantizers import quantized_bits, quantized_relu\n",
    "from qkeras.qlayers import QDense, QActivation\n",
    "from qkeras import QConv1D\n",
    "from qkeras.utils import load_qmodel\n",
    "\n",
    "import hist\n",
    "from hist import Hist\n",
    "\n",
    "import random\n",
    "%matplotlib inline\n",
    "import matplotlib.pyplot as plt\n",
    "import matplotlib.colors as colors\n",
    "from matplotlib.pyplot import cm\n",
    "import mplhep as hep\n",
    "plt.style.use(hep.style.ROOT)\n",
    "\n",
    "import matplotlib.pylab as pylab\n",
    "params = {'legend.fontsize': 'medium',\n",
    "         'axes.labelsize': 'x-large',\n",
    "         'axes.titlesize':'x-large',\n",
    "         'xtick.labelsize':'medium',\n",
    "         'ytick.labelsize':'medium'}\n",
    "pylab.rcParams.update(params)\n",
    "\n",
    "#line thickness\n",
    "import matplotlib as mpl\n",
    "mpl.rcParams['lines.linewidth'] = 5\n",
    "\n",
    "gpus = tf.config.experimental.list_physical_devices('GPU')\n",
    "if gpus:\n",
    "    try:\n",
    "        tf.config.experimental.set_virtual_device_configuration(\n",
    "            gpus[0],[tf.config.experimental.VirtualDeviceConfiguration(memory_limit=500)])\n",
    "    except RuntimeError as e:\n",
    "        print(e)\n",
    "\n",
    "import hls4ml\n",
    "import hls4ml.utils\n",
    "import hls4ml.converters\n",
    "\n"
   ]
  },
  {
   "cell_type": "code",
   "execution_count": 21,
   "id": "ce99c937-93a9-440f-9f53-039638eb9a02",
   "metadata": {},
   "outputs": [
    {
     "name": "stdout",
     "output_type": "stream",
     "text": [
      "WARNING:tensorflow:No training configuration found in the save file, so the model was *not* compiled. Compile it manually.\n"
     ]
    },
    {
     "name": "stderr",
     "output_type": "stream",
     "text": [
      "WARNING:tensorflow:No training configuration found in the save file, so the model was *not* compiled. Compile it manually.\n"
     ]
    },
    {
     "name": "stdout",
     "output_type": "stream",
     "text": [
      "Interpreting Model\n",
      "Topology:\n",
      "Layer name: model_input, layer type: InputLayer, input shapes: [[None, 80]], output shape: [None, 80]\n",
      "Layer name: Dense_1, layer type: QDense, input shapes: [[None, 80]], output shape: [None, 25]\n",
      "Layer name: relu_1, layer type: Activation, input shapes: [[None, 25]], output shape: [None, 25]\n",
      "Layer name: Dense_2, layer type: QDense, input shapes: [[None, 25]], output shape: [None, 25]\n",
      "Layer name: relu_2, layer type: Activation, input shapes: [[None, 25]], output shape: [None, 25]\n",
      "Layer name: Dense_3, layer type: QDense, input shapes: [[None, 25]], output shape: [None, 15]\n",
      "Layer name: relu_3, layer type: Activation, input shapes: [[None, 15]], output shape: [None, 15]\n",
      "Layer name: Dense_4, layer type: QDense, input shapes: [[None, 15]], output shape: [None, 15]\n",
      "Layer name: relu_4, layer type: Activation, input shapes: [[None, 15]], output shape: [None, 15]\n",
      "Layer name: Dense_5, layer type: QDense, input shapes: [[None, 15]], output shape: [None, 10]\n",
      "Layer name: relu_5, layer type: Activation, input shapes: [[None, 10]], output shape: [None, 10]\n",
      "Layer name: Dense_6, layer type: QDense, input shapes: [[None, 10]], output shape: [None, 1]\n",
      "Layer name: jetID_output, layer type: Activation, input shapes: [[None, 1]], output shape: [None, 1]\n",
      "Layer name: pT_output, layer type: QDense, input shapes: [[None, 10]], output shape: [None, 1]\n",
      "Interpreting Model\n",
      "Topology:\n",
      "Layer name: model_input, layer type: InputLayer, input shapes: [[None, 80]], output shape: [None, 80]\n",
      "Layer name: Dense_1, layer type: QDense, input shapes: [[None, 80]], output shape: [None, 25]\n",
      "Layer name: relu_1, layer type: Activation, input shapes: [[None, 25]], output shape: [None, 25]\n",
      "Layer name: Dense_2, layer type: QDense, input shapes: [[None, 25]], output shape: [None, 25]\n",
      "Layer name: relu_2, layer type: Activation, input shapes: [[None, 25]], output shape: [None, 25]\n",
      "Layer name: Dense_3, layer type: QDense, input shapes: [[None, 25]], output shape: [None, 15]\n",
      "Layer name: relu_3, layer type: Activation, input shapes: [[None, 15]], output shape: [None, 15]\n",
      "Layer name: Dense_4, layer type: QDense, input shapes: [[None, 15]], output shape: [None, 15]\n",
      "Layer name: relu_4, layer type: Activation, input shapes: [[None, 15]], output shape: [None, 15]\n",
      "Layer name: Dense_5, layer type: QDense, input shapes: [[None, 15]], output shape: [None, 10]\n",
      "Layer name: relu_5, layer type: Activation, input shapes: [[None, 10]], output shape: [None, 10]\n",
      "Layer name: Dense_6, layer type: QDense, input shapes: [[None, 10]], output shape: [None, 1]\n",
      "Layer name: jetID_output, layer type: Activation, input shapes: [[None, 1]], output shape: [None, 1]\n",
      "Layer name: pT_output, layer type: QDense, input shapes: [[None, 10]], output shape: [None, 1]\n",
      "Creating HLS model\n",
      "Writing HLS project\n",
      "WARNING:tensorflow:Compiled the loaded model, but the compiled metrics have yet to be built. `model.compile_metrics` will be empty until you train or evaluate the model.\n"
     ]
    },
    {
     "name": "stderr",
     "output_type": "stream",
     "text": [
      "WARNING:tensorflow:Compiled the loaded model, but the compiled metrics have yet to be built. `model.compile_metrics` will be empty until you train or evaluate the model.\n"
     ]
    },
    {
     "name": "stdout",
     "output_type": "stream",
     "text": [
      "Done\n"
     ]
    }
   ],
   "source": [
    "os.environ['PATH'] += os.pathsep + '/tools/Xilinx/Vitis_HLS/2022.1/bin'\n",
    "\n",
    "model = load_qmodel(\"../models/quantized_merged_pruned_gamma30.h5\")\n",
    "\n",
    "\n",
    "config = hls4ml.utils.config_from_keras_model(model, granularity='name')\n",
    "\n",
    "for Layer in config['LayerName'].keys():\n",
    "        if \"Dense\" in Layer:\n",
    "\n",
    "            config['LayerName'][Layer]['Strategy'] = 'Latency'\n",
    "            config['LayerName'][Layer]['ReuseFactor'] = 1\n",
    "\n",
    "        else:\n",
    "            config['LayerName'][Layer]['Strategy'] = 'Latency'\n",
    "            config['LayerName'][Layer]['ReuseFactor'] = 1\n",
    "\n",
    "hls_model = hls4ml.converters.convert_from_keras_model(model,\n",
    "                                                       backend='Vitis',\n",
    "                                                       project_name='tau_nn', #I'm not very creative\n",
    "                                                       clock_period=2.8, #1/360MHz = 2.8ns\n",
    "                                                       hls_config=config,\n",
    "                                                       output_dir='hardwareII_COM/testing60_pruned/hls4ml_prj',\n",
    "                                                       part='xcvu9p-flga2104-2L-e')\n",
    "\n",
    "\n",
    "# hls_model = hls4ml.converters.convert_from_keras_model(\n",
    "#     model, hls_config=config, output_dir='model_3/hls4ml_prj', part='xcu250-figd2104-2L-e'\n",
    "# )\n",
    "hls_model.compile()\n",
    "\n",
    "#hls_model.build(csim=False)\n",
    "#hls4ml.converters.convert_from_keras_model\n"
   ]
  },
  {
   "cell_type": "code",
   "execution_count": 22,
   "id": "f8e3a31b-e648-4e41-8778-61fca0bd891c",
   "metadata": {},
   "outputs": [
    {
     "name": "stdout",
     "output_type": "stream",
     "text": [
      "[[7.460348  3.7703476 6.0344324 ... 8.521934  9.00225   6.466578 ]\n",
      " [6.157096  3.5847611 3.2526512 ... 6.2397738 8.385597  7.9326897]\n",
      " [1.7831181 4.6733785 5.3039336 ... 3.221678  8.119002  9.11684  ]\n",
      " ...\n",
      " [9.688991  4.047884  2.1023054 ... 4.2479887 5.1862664 2.0607257]\n",
      " [7.187459  2.8943896 2.263299  ... 9.169614  1.1631781 4.4476748]\n",
      " [8.521244  4.1267157 3.0646691 ... 1.1519074 6.910454  7.1379704]]\n",
      "(10000, 80)\n",
      "<class 'numpy.ndarray'>\n",
      "313/313 [==============================] - 1s 987us/step\n"
     ]
    },
    {
     "data": {
      "text/plain": [
       "array([0.03058304, 0.03700378, 0.02907966, ..., 0.03700378, 0.02907966,\n",
       "       0.02907966], dtype=float32)"
      ]
     },
     "execution_count": 22,
     "metadata": {},
     "output_type": "execute_result"
    }
   ],
   "source": [
    "num_samples = 10000\n",
    "\n",
    "# Create a tensor of shape [10000, 80] with random values between 0 and 10\n",
    "random_tensors = tf.random.uniform(shape=[num_samples, 80], minval=1, maxval=10, dtype=tf.float32).numpy()\n",
    "print(random_tensors)\n",
    "print(random_tensors.shape)\n",
    "print(type(random_tensors))\n",
    "y_qkeras = model.predict(np.ascontiguousarray(random_tensors))[0].flatten()\n",
    "y_hls = hls_model.predict(np.ascontiguousarray(random_tensors))[0].flatten()\n",
    "y_qkeras"
   ]
  },
  {
   "cell_type": "code",
   "execution_count": 23,
   "id": "9da0d192-ac84-49d4-b17e-98e792a10544",
   "metadata": {},
   "outputs": [
    {
     "data": {
      "text/plain": [
       "array([0.03027344, 0.03613281, 0.02929688, ..., 0.04199219, 0.03222656,\n",
       "       0.02929688], dtype=float32)"
      ]
     },
     "execution_count": 23,
     "metadata": {},
     "output_type": "execute_result"
    }
   ],
   "source": [
    "y_hls"
   ]
  },
  {
   "cell_type": "code",
   "execution_count": 24,
   "id": "64c39393-978a-49a8-950f-0129ff8532cd",
   "metadata": {},
   "outputs": [
    {
     "name": "stdout",
     "output_type": "stream",
     "text": [
      "0.58645666\n",
      "1.6354024e-06\n"
     ]
    }
   ],
   "source": [
    "print(np.max(abs(np.array(y_qkeras) - np.array(y_hls))))\n",
    "print(np.min(abs(np.array(y_qkeras) - np.array(y_hls))))\n",
    "y=abs(np.array(y_qkeras) - np.array(y_hls))"
   ]
  },
  {
   "cell_type": "code",
   "execution_count": 25,
   "id": "cdd3c35f-fcdb-4ce2-b0df-3da0d05e87f0",
   "metadata": {},
   "outputs": [
    {
     "data": {
      "text/plain": [
       "(0.0, 0.05)"
      ]
     },
     "execution_count": 25,
     "metadata": {},
     "output_type": "execute_result"
    },
    {
     "data": {
      "image/png": "[encoded data removed]",
      "text/plain": [
       "<Figure size 1000x1000 with 1 Axes>"
      ]
     },
     "metadata": {},
     "output_type": "display_data"
    }
   ],
   "source": [
    "# Create x-coordinates for each bar\n",
    "x1 = np.arange(len(y_qkeras))\n",
    "x2 = np.arange(len(y_hls))\n",
    "\n",
    "#plt.bar(y, x1, color = \"black\")\n",
    "plt.hist(y, bins=1000, edgecolor='black')\n",
    "plt.xlim(0, 0.05)"
   ]
  },
  {
   "cell_type": "code",
   "execution_count": 26,
   "id": "f798eb08-3564-48bc-905e-b1bef4352ed8",
   "metadata": {},
   "outputs": [
    {
     "name": "stdout",
     "output_type": "stream",
     "text": [
      "Interpreting Model\n",
      "Topology:\n",
      "Layer name: model_input, layer type: InputLayer, input shapes: [[None, 80]], output shape: [None, 80]\n",
      "Layer name: Dense_1, layer type: QDense, input shapes: [[None, 80]], output shape: [None, 25]\n",
      "Layer name: relu_1, layer type: Activation, input shapes: [[None, 25]], output shape: [None, 25]\n",
      "Layer name: Dense_2, layer type: QDense, input shapes: [[None, 25]], output shape: [None, 25]\n",
      "Layer name: relu_2, layer type: Activation, input shapes: [[None, 25]], output shape: [None, 25]\n",
      "Layer name: Dense_3, layer type: QDense, input shapes: [[None, 25]], output shape: [None, 15]\n",
      "Layer name: relu_3, layer type: Activation, input shapes: [[None, 15]], output shape: [None, 15]\n",
      "Layer name: Dense_4, layer type: QDense, input shapes: [[None, 15]], output shape: [None, 15]\n",
      "Layer name: relu_4, layer type: Activation, input shapes: [[None, 15]], output shape: [None, 15]\n",
      "Layer name: Dense_5, layer type: QDense, input shapes: [[None, 15]], output shape: [None, 10]\n",
      "Layer name: relu_5, layer type: Activation, input shapes: [[None, 10]], output shape: [None, 10]\n",
      "Layer name: Dense_6, layer type: QDense, input shapes: [[None, 10]], output shape: [None, 1]\n",
      "Layer name: jetID_output, layer type: Activation, input shapes: [[None, 1]], output shape: [None, 1]\n",
      "Layer name: pT_output, layer type: QDense, input shapes: [[None, 10]], output shape: [None, 1]\n",
      "{'Trace': False, 'Precision': {'result': 'fixed<16,6>'}}\n",
      "{'Trace': False, 'Precision': {'result': 'fixed<16,6>', 'weight': 'fixed<9,3>', 'bias': 'fixed<9,3>'}}\n",
      "{'Trace': False, 'Precision': {'result': 'fixed<16,6>'}}\n",
      "{'Trace': False, 'Precision': {'result': 'ufixed<9,0,RND_CONV,SAT>'}}\n",
      "{'Trace': False, 'Precision': {'result': 'fixed<16,6>', 'weight': 'fixed<9,3>', 'bias': 'fixed<9,3>'}}\n",
      "{'Trace': False, 'Precision': {'result': 'fixed<16,6>'}}\n",
      "{'Trace': False, 'Precision': {'result': 'ufixed<9,0,RND_CONV,SAT>'}}\n",
      "{'Trace': False, 'Precision': {'result': 'fixed<16,6>', 'weight': 'fixed<9,3>', 'bias': 'fixed<9,3>'}}\n",
      "{'Trace': False, 'Precision': {'result': 'fixed<16,6>'}}\n",
      "{'Trace': False, 'Precision': {'result': 'ufixed<9,0,RND_CONV,SAT>'}}\n",
      "{'Trace': False, 'Precision': {'result': 'fixed<16,6>', 'weight': 'fixed<9,3>', 'bias': 'fixed<9,3>'}}\n",
      "{'Trace': False, 'Precision': {'result': 'fixed<16,6>'}}\n",
      "{'Trace': False, 'Precision': {'result': 'ufixed<9,0,RND_CONV,SAT>'}}\n",
      "{'Trace': False, 'Precision': {'result': 'fixed<16,6>', 'weight': 'fixed<9,3>', 'bias': 'fixed<9,3>'}}\n",
      "{'Trace': False, 'Precision': {'result': 'fixed<16,6>'}}\n",
      "{'Trace': False, 'Precision': {'result': 'ufixed<9,0,RND_CONV,SAT>'}}\n",
      "{'Trace': False, 'Precision': {'result': 'fixed<16,6>', 'weight': 'fixed<16,7>', 'bias': 'fixed<16,7>'}}\n",
      "{'Trace': False, 'Precision': {'result': 'fixed<16,6>'}}\n",
      "{'Trace': False, 'Precision': {'result': 'fixed<16,6>'}}\n",
      "{'Trace': False, 'Precision': {'result': 'fixed<16,6>', 'weight': 'fixed<16,7>', 'bias': 'fixed<16,7>'}}\n",
      "{'Trace': False, 'Precision': {'result': 'fixed<16,6>'}}\n",
      "Number of neurons in the layer: 25\n",
      "Model: \"model_32\"\n",
      "__________________________________________________________________________________________________\n",
      " Layer (type)                   Output Shape         Param #     Connected to                     \n",
      "==================================================================================================\n",
      " model_input (InputLayer)       [(None, 80)]         0           []                               \n",
      "                                                                                                  \n",
      " Dense_1 (QDense)               (None, 25)           2025        ['model_input[0][0]']            \n",
      "                                                                                                  \n",
      " relu_1 (QActivation)           (None, 25)           0           ['Dense_1[0][0]']                \n",
      "                                                                                                  \n",
      " Dense_2 (QDense)               (None, 25)           650         ['relu_1[0][0]']                 \n",
      "                                                                                                  \n",
      " relu_2 (QActivation)           (None, 25)           0           ['Dense_2[0][0]']                \n",
      "                                                                                                  \n",
      " Dense_3 (QDense)               (None, 15)           390         ['relu_2[0][0]']                 \n",
      "                                                                                                  \n",
      " relu_3 (QActivation)           (None, 15)           0           ['Dense_3[0][0]']                \n",
      "                                                                                                  \n",
      " Dense_4 (QDense)               (None, 15)           240         ['relu_3[0][0]']                 \n",
      "                                                                                                  \n",
      " relu_4 (QActivation)           (None, 15)           0           ['Dense_4[0][0]']                \n",
      "                                                                                                  \n",
      " Dense_5 (QDense)               (None, 10)           160         ['relu_4[0][0]']                 \n",
      "                                                                                                  \n",
      " relu_5 (QActivation)           (None, 10)           0           ['Dense_5[0][0]']                \n",
      "                                                                                                  \n",
      " Dense_6 (QDense)               (None, 1)            11          ['relu_5[0][0]']                 \n",
      "                                                                                                  \n",
      " jetID_output (Activation)      (None, 1)            0           ['Dense_6[0][0]']                \n",
      "                                                                                                  \n",
      " pT_output (QDense)             (None, 1)            11          ['relu_5[0][0]']                 \n",
      "                                                                                                  \n",
      "==================================================================================================\n",
      "Total params: 3,487\n",
      "Trainable params: 3,487\n",
      "Non-trainable params: 0\n",
      "__________________________________________________________________________________________________\n"
     ]
    }
   ],
   "source": [
    "# ap_fixed<X,Y>, where Y is the number of bits representing the signed number above the binary point (i.e. the integer part)\n",
    "# and X is the total number of bits. Additionally, integers in fixed precision data type (ap_int<N>, where N is a bit-size from 1 to 1024) can also be used. \n",
    "\n",
    "#min_width = 6\n",
    "#max_width = 16\n",
    "\n",
    "config = hls4ml.utils.config_from_keras_model(model, granularity='name')\n",
    "for layer_name in config['LayerName']:\n",
    "    print(config['LayerName'][layer_name])\n",
    "# Function to set accumulator width for a given layer\n",
    "# def set_accumulator_width(layer_name):\n",
    "#     total_bits=int(max(np.ceil(input_width + weight_width + np.log2(n_ops)), bias_width) + 1)\n",
    "#     integer_bits=int(max(np.ceil(input_integers + weight_integers + np.log2(n_ops)), bias_integers) + 1)\n",
    "#     config['LayerName'][layer_name]['accum_t'] = f'ap_fixed<{total_bits}, {integer_bits}>'\n",
    "\n",
    "# # Iterate over each layer to optimize the accumulator width\n",
    "# for layer_name in config['LayerName']:\n",
    "#     # Define a range or method to select the optimal width\n",
    "#     set_accumulator_width(layer_name, width)\n",
    "    \n",
    "#     # Convert the model with the updated configuration\n",
    "#     hls_model = hls4ml.converters.convert_from_keras_model(model,\n",
    "#                                                            hls_config=config,\n",
    "#                                                            output_dir='model_{}_accum_width'.format(width))\n",
    "    \n",
    "#     # Compile and predict to test the model performance with the new accumulator width\n",
    "#     hls_model.compile()\n",
    "#     # Implement your method of evaluating the model here (e.g., using accuracy, resource utilization)\n",
    "#     y_qkeras = model.predict(np.ascontiguousarray(random_tensors))[0].flatten()\n",
    "#     y_hls = hls_model.predict(np.ascontiguousarray(random_tensors))[0].flatten()\n",
    "#     print(np.max(abs(np.array(y_qkeras) - np.array(y_hls))))\n",
    "#     print(np.min(abs(np.array(y_qkeras) - np.array(y_hls))))\n",
    "#     y=abs(np.array(y_qkeras) - np.array(y_hls))\n",
    "\n",
    "# Select the width that optimizes the metrics you care about for each layer\n",
    "# Update the configuration or model accordingly\n",
    "layer = model.layers[3]\n",
    "\n",
    "# Accessing the layer by name (if you know the name)\n",
    "# layer = model.get_layer('layer_name')\n",
    "\n",
    "# Getting the number of neurons in this layer\n",
    "number_of_neurons = layer.units\n",
    "print(\"Number of neurons in the layer:\", number_of_neurons)\n",
    "model.summary()"
   ]
  },
  {
   "cell_type": "code",
   "execution_count": 27,
   "id": "9c580d56-b4e4-48df-b9b9-7ebf8fe33b36",
   "metadata": {},
   "outputs": [
    {
     "name": "stdout",
     "output_type": "stream",
     "text": [
      "{'Trace': False, 'Precision': {'result': 'fixed<16,6>', 'weight': 'fixed<9,3>', 'bias': 'fixed<9,3>'}}\n",
      "(16, 9, 9, 6, 3, 3)\n",
      "37\n",
      "21\n",
      "{'Trace': False, 'Precision': {'result': 'fixed<16,6>', 'weight': 'fixed<9,3>', 'bias': 'fixed<9,3>'}}\n",
      "(16, 9, 9, 6, 3, 3)\n",
      "36\n",
      "20\n",
      "{'Trace': False, 'Precision': {'result': 'fixed<16,6>', 'weight': 'fixed<9,3>', 'bias': 'fixed<9,3>'}}\n",
      "(16, 9, 9, 6, 3, 3)\n",
      "35\n",
      "19\n",
      "{'Trace': False, 'Precision': {'result': 'fixed<16,6>', 'weight': 'fixed<9,3>', 'bias': 'fixed<9,3>'}}\n",
      "(16, 9, 9, 6, 3, 3)\n",
      "34\n",
      "18\n",
      "{'Trace': False, 'Precision': {'result': 'fixed<16,6>', 'weight': 'fixed<9,3>', 'bias': 'fixed<9,3>'}}\n",
      "(16, 9, 9, 6, 3, 3)\n",
      "34\n",
      "18\n",
      "{'Trace': False, 'Precision': {'result': 'fixed<16,6>', 'weight': 'fixed<16,7>', 'bias': 'fixed<16,7>'}}\n",
      "(16, 16, 16, 6, 7, 7)\n",
      "37\n",
      "18\n",
      "Interpreting Model\n",
      "Topology:\n",
      "Layer name: model_input, layer type: InputLayer, input shapes: [[None, 80]], output shape: [None, 80]\n",
      "Layer name: Dense_1, layer type: QDense, input shapes: [[None, 80]], output shape: [None, 25]\n",
      "Layer name: relu_1, layer type: Activation, input shapes: [[None, 25]], output shape: [None, 25]\n",
      "Layer name: Dense_2, layer type: QDense, input shapes: [[None, 25]], output shape: [None, 25]\n",
      "Layer name: relu_2, layer type: Activation, input shapes: [[None, 25]], output shape: [None, 25]\n",
      "Layer name: Dense_3, layer type: QDense, input shapes: [[None, 25]], output shape: [None, 15]\n",
      "Layer name: relu_3, layer type: Activation, input shapes: [[None, 15]], output shape: [None, 15]\n",
      "Layer name: Dense_4, layer type: QDense, input shapes: [[None, 15]], output shape: [None, 15]\n",
      "Layer name: relu_4, layer type: Activation, input shapes: [[None, 15]], output shape: [None, 15]\n",
      "Layer name: Dense_5, layer type: QDense, input shapes: [[None, 15]], output shape: [None, 10]\n",
      "Layer name: relu_5, layer type: Activation, input shapes: [[None, 10]], output shape: [None, 10]\n",
      "Layer name: Dense_6, layer type: QDense, input shapes: [[None, 10]], output shape: [None, 1]\n",
      "Layer name: jetID_output, layer type: Activation, input shapes: [[None, 1]], output shape: [None, 1]\n",
      "Layer name: pT_output, layer type: QDense, input shapes: [[None, 10]], output shape: [None, 1]\n",
      "Creating HLS model\n",
      "WARNING: Config parameter \"accum_t\" overwrites an existing attribute in layer \"Dense_1\" (Dense)\n"
     ]
    },
    {
     "ename": "AttributeError",
     "evalue": "'NoneType' object has no attribute 'group'",
     "output_type": "error",
     "traceback": [
      "\u001b[0;31m---------------------------------------------------------------------------\u001b[0m",
      "\u001b[0;31mAttributeError\u001b[0m                            Traceback (most recent call last)",
      "Cell \u001b[0;32mIn[27], line 26\u001b[0m\n\u001b[1;32m     23\u001b[0m         \u001b[38;5;66;03m#config['LayerName'][layer_name]['accum_t'] = f'ap_fixed<{total_bits}, {integer_bits}>'\u001b[39;00m\n\u001b[1;32m     24\u001b[0m         config[\u001b[38;5;124m'\u001b[39m\u001b[38;5;124mLayerName\u001b[39m\u001b[38;5;124m'\u001b[39m][layer_name][\u001b[38;5;124m'\u001b[39m\u001b[38;5;124maccum_t\u001b[39m\u001b[38;5;124m'\u001b[39m] \u001b[38;5;241m=\u001b[39m \u001b[38;5;124m'\u001b[39m\u001b[38;5;124mfloat\u001b[39m\u001b[38;5;124m'\u001b[39m\n\u001b[0;32m---> 26\u001b[0m acc_width_opt_model \u001b[38;5;241m=\u001b[39m \u001b[43mhls4ml\u001b[49m\u001b[38;5;241;43m.\u001b[39;49m\u001b[43mconverters\u001b[49m\u001b[38;5;241;43m.\u001b[39;49m\u001b[43mconvert_from_keras_model\u001b[49m\u001b[43m(\u001b[49m\u001b[43mmodel\u001b[49m\u001b[43m,\u001b[49m\n\u001b[1;32m     27\u001b[0m \u001b[43m                                                       \u001b[49m\u001b[43mbackend\u001b[49m\u001b[38;5;241;43m=\u001b[39;49m\u001b[38;5;124;43m'\u001b[39;49m\u001b[38;5;124;43mVitis\u001b[39;49m\u001b[38;5;124;43m'\u001b[39;49m\u001b[43m,\u001b[49m\n\u001b[1;32m     28\u001b[0m \u001b[43m                                                       \u001b[49m\u001b[43mproject_name\u001b[49m\u001b[38;5;241;43m=\u001b[39;49m\u001b[38;5;124;43m'\u001b[39;49m\u001b[38;5;124;43mtau_nn\u001b[39;49m\u001b[38;5;124;43m'\u001b[39;49m\u001b[43m,\u001b[49m\u001b[43m \u001b[49m\u001b[38;5;66;43;03m#I'm not very creative\u001b[39;49;00m\n\u001b[1;32m     29\u001b[0m \u001b[43m                                                       \u001b[49m\u001b[43mclock_period\u001b[49m\u001b[38;5;241;43m=\u001b[39;49m\u001b[38;5;241;43m2.8\u001b[39;49m\u001b[43m,\u001b[49m\u001b[43m \u001b[49m\u001b[38;5;66;43;03m#1/360MHz = 2.8ns\u001b[39;49;00m\n\u001b[1;32m     30\u001b[0m \u001b[43m                                                       \u001b[49m\u001b[43mhls_config\u001b[49m\u001b[38;5;241;43m=\u001b[39;49m\u001b[43mconfig\u001b[49m\u001b[43m,\u001b[49m\n\u001b[1;32m     31\u001b[0m \u001b[43m                                                       \u001b[49m\u001b[43moutput_dir\u001b[49m\u001b[38;5;241;43m=\u001b[39;49m\u001b[38;5;124;43m'\u001b[39;49m\u001b[38;5;124;43mhardwareII_COM/acc_width_optimize/hls4ml_prj\u001b[39;49m\u001b[38;5;124;43m'\u001b[39;49m\u001b[43m,\u001b[49m\n\u001b[1;32m     32\u001b[0m \u001b[43m                                                       \u001b[49m\u001b[43mpart\u001b[49m\u001b[38;5;241;43m=\u001b[39;49m\u001b[38;5;124;43m'\u001b[39;49m\u001b[38;5;124;43mxcvu9p-flga2104-2L-e\u001b[39;49m\u001b[38;5;124;43m'\u001b[39;49m\u001b[43m)\u001b[49m\n\u001b[1;32m     35\u001b[0m \u001b[38;5;66;03m# hls_model = hls4ml.converters.convert_from_keras_model(\u001b[39;00m\n\u001b[1;32m     36\u001b[0m \u001b[38;5;66;03m#     model, hls_config=config, output_dir='model_3/hls4ml_prj', part='xcu250-figd2104-2L-e'\u001b[39;00m\n\u001b[1;32m     37\u001b[0m \u001b[38;5;66;03m# )\u001b[39;00m\n\u001b[1;32m     38\u001b[0m acc_width_opt_model\u001b[38;5;241m.\u001b[39mcompile()\n",
      "File \u001b[0;32m~/tau_nn_conversion/hls4ml/hls4ml/converters/__init__.py:232\u001b[0m, in \u001b[0;36mconvert_from_keras_model\u001b[0;34m(model, output_dir, project_name, input_data_tb, output_data_tb, backend, hls_config, **kwargs)\u001b[0m\n\u001b[1;32m    228\u001b[0m config[\u001b[38;5;124m'\u001b[39m\u001b[38;5;124mHLSConfig\u001b[39m\u001b[38;5;124m'\u001b[39m][\u001b[38;5;124m'\u001b[39m\u001b[38;5;124mModel\u001b[39m\u001b[38;5;124m'\u001b[39m] \u001b[38;5;241m=\u001b[39m _check_model_config(model_config)\n\u001b[1;32m    230\u001b[0m _check_hls_config(config, hls_config)\n\u001b[0;32m--> 232\u001b[0m \u001b[38;5;28;01mreturn\u001b[39;00m \u001b[43mkeras_to_hls\u001b[49m\u001b[43m(\u001b[49m\u001b[43mconfig\u001b[49m\u001b[43m)\u001b[49m\n",
      "File \u001b[0;32m~/tau_nn_conversion/hls4ml/hls4ml/converters/keras_to_hls.py:335\u001b[0m, in \u001b[0;36mkeras_to_hls\u001b[0;34m(config)\u001b[0m\n\u001b[1;32m    333\u001b[0m layer_list, input_layers, output_layers, _ \u001b[38;5;241m=\u001b[39m parse_keras_model(model_arch, reader)\n\u001b[1;32m    334\u001b[0m \u001b[38;5;28mprint\u001b[39m(\u001b[38;5;124m'\u001b[39m\u001b[38;5;124mCreating HLS model\u001b[39m\u001b[38;5;124m'\u001b[39m)\n\u001b[0;32m--> 335\u001b[0m hls_model \u001b[38;5;241m=\u001b[39m \u001b[43mModelGraph\u001b[49m\u001b[43m(\u001b[49m\u001b[43mconfig\u001b[49m\u001b[43m,\u001b[49m\u001b[43m \u001b[49m\u001b[43mlayer_list\u001b[49m\u001b[43m,\u001b[49m\u001b[43m \u001b[49m\u001b[43minput_layers\u001b[49m\u001b[43m,\u001b[49m\u001b[43m \u001b[49m\u001b[43moutput_layers\u001b[49m\u001b[43m)\u001b[49m\n\u001b[1;32m    336\u001b[0m \u001b[38;5;28;01mreturn\u001b[39;00m hls_model\n",
      "File \u001b[0;32m~/tau_nn_conversion/hls4ml/hls4ml/model/graph.py:359\u001b[0m, in \u001b[0;36mModelGraph.__init__\u001b[0;34m(self, config, layer_list, inputs, outputs)\u001b[0m\n\u001b[1;32m    355\u001b[0m \u001b[38;5;28mself\u001b[39m\u001b[38;5;241m.\u001b[39moutput_vars \u001b[38;5;241m=\u001b[39m {}\n\u001b[1;32m    357\u001b[0m \u001b[38;5;28mself\u001b[39m\u001b[38;5;241m.\u001b[39m_top_function_lib \u001b[38;5;241m=\u001b[39m \u001b[38;5;28;01mNone\u001b[39;00m\n\u001b[0;32m--> 359\u001b[0m \u001b[38;5;28;43mself\u001b[39;49m\u001b[38;5;241;43m.\u001b[39;49m\u001b[43m_make_graph\u001b[49m\u001b[43m(\u001b[49m\u001b[43mlayer_list\u001b[49m\u001b[43m)\u001b[49m\n\u001b[1;32m    361\u001b[0m \u001b[38;5;28;01mfor\u001b[39;00m flow \u001b[38;5;129;01min\u001b[39;00m \u001b[38;5;28mself\u001b[39m\u001b[38;5;241m.\u001b[39mconfig\u001b[38;5;241m.\u001b[39mflows:\n\u001b[1;32m    362\u001b[0m     \u001b[38;5;28mself\u001b[39m\u001b[38;5;241m.\u001b[39mapply_flow(flow)\n",
      "File \u001b[0;32m~/tau_nn_conversion/hls4ml/hls4ml/model/graph.py:384\u001b[0m, in \u001b[0;36mModelGraph._make_graph\u001b[0;34m(self, layer_list)\u001b[0m\n\u001b[1;32m    381\u001b[0m \u001b[38;5;28;01mif\u001b[39;00m \u001b[38;5;28mlen\u001b[39m(outputs) \u001b[38;5;241m==\u001b[39m \u001b[38;5;241m0\u001b[39m:\n\u001b[1;32m    382\u001b[0m     outputs \u001b[38;5;241m=\u001b[39m [name]\n\u001b[0;32m--> 384\u001b[0m \u001b[38;5;28mself\u001b[39m\u001b[38;5;241m.\u001b[39mgraph[name] \u001b[38;5;241m=\u001b[39m \u001b[38;5;28;43mself\u001b[39;49m\u001b[38;5;241;43m.\u001b[39;49m\u001b[43mmake_node\u001b[49m\u001b[43m(\u001b[49m\u001b[43mkind\u001b[49m\u001b[43m,\u001b[49m\u001b[43m \u001b[49m\u001b[43mname\u001b[49m\u001b[43m,\u001b[49m\u001b[43m \u001b[49m\u001b[43mlayer\u001b[49m\u001b[43m,\u001b[49m\u001b[43m \u001b[49m\u001b[43minputs\u001b[49m\u001b[43m,\u001b[49m\u001b[43m \u001b[49m\u001b[43moutputs\u001b[49m\u001b[43m)\u001b[49m\n",
      "File \u001b[0;32m~/tau_nn_conversion/hls4ml/hls4ml/model/graph.py:471\u001b[0m, in \u001b[0;36mModelGraph.make_node\u001b[0;34m(self, kind, name, attributes, inputs, outputs)\u001b[0m\n\u001b[1;32m    469\u001b[0m \u001b[38;5;28;01mif\u001b[39;00m \u001b[38;5;28mself\u001b[39m\u001b[38;5;241m.\u001b[39mconfig\u001b[38;5;241m.\u001b[39mbackend \u001b[38;5;129;01mis\u001b[39;00m \u001b[38;5;129;01mnot\u001b[39;00m \u001b[38;5;28;01mNone\u001b[39;00m:\n\u001b[1;32m    470\u001b[0m     layer_cls \u001b[38;5;241m=\u001b[39m \u001b[38;5;28mself\u001b[39m\u001b[38;5;241m.\u001b[39mconfig\u001b[38;5;241m.\u001b[39mbackend\u001b[38;5;241m.\u001b[39mcreate_layer_class(layer_cls)\n\u001b[0;32m--> 471\u001b[0m node \u001b[38;5;241m=\u001b[39m \u001b[43mlayer_cls\u001b[49m\u001b[43m(\u001b[49m\u001b[38;5;28;43mself\u001b[39;49m\u001b[43m,\u001b[49m\u001b[43m \u001b[49m\u001b[43mname\u001b[49m\u001b[43m,\u001b[49m\u001b[43m \u001b[49m\u001b[43mattributes\u001b[49m\u001b[43m,\u001b[49m\u001b[43m \u001b[49m\u001b[43minputs\u001b[49m\u001b[43m,\u001b[49m\u001b[43m \u001b[49m\u001b[43moutputs\u001b[49m\u001b[43m)\u001b[49m\n\u001b[1;32m    472\u001b[0m \u001b[38;5;28;01mfor\u001b[39;00m o \u001b[38;5;129;01min\u001b[39;00m node\u001b[38;5;241m.\u001b[39moutputs:\n\u001b[1;32m    473\u001b[0m     out_var \u001b[38;5;241m=\u001b[39m node\u001b[38;5;241m.\u001b[39mget_output_variable(output_name\u001b[38;5;241m=\u001b[39mo)\n",
      "File \u001b[0;32m~/tau_nn_conversion/hls4ml/hls4ml/model/layers.py:114\u001b[0m, in \u001b[0;36mLayer.__init__\u001b[0;34m(self, model, name, attributes, inputs, outputs)\u001b[0m\n\u001b[1;32m    106\u001b[0m     \u001b[38;5;28mprint\u001b[39m(\n\u001b[1;32m    107\u001b[0m         \u001b[38;5;124m'\u001b[39m\u001b[38;5;124mWARNING: Config parameter \u001b[39m\u001b[38;5;124m\"\u001b[39m\u001b[38;5;132;01m{}\u001b[39;00m\u001b[38;5;124m\"\u001b[39m\u001b[38;5;124m overwrites an existing attribute in layer \u001b[39m\u001b[38;5;124m\"\u001b[39m\u001b[38;5;132;01m{}\u001b[39;00m\u001b[38;5;124m\"\u001b[39m\u001b[38;5;124m (\u001b[39m\u001b[38;5;132;01m{}\u001b[39;00m\u001b[38;5;124m)\u001b[39m\u001b[38;5;124m'\u001b[39m\u001b[38;5;241m.\u001b[39mformat(\n\u001b[1;32m    108\u001b[0m             config_key, \u001b[38;5;28mself\u001b[39m\u001b[38;5;241m.\u001b[39mname, \u001b[38;5;28mself\u001b[39m\u001b[38;5;241m.\u001b[39mclass_name\n\u001b[1;32m    109\u001b[0m         )\n\u001b[1;32m    110\u001b[0m     )\n\u001b[1;32m    111\u001b[0m \u001b[38;5;28;01mif\u001b[39;00m config_key\u001b[38;5;241m.\u001b[39mendswith(\u001b[38;5;124m'\u001b[39m\u001b[38;5;124m_t\u001b[39m\u001b[38;5;124m'\u001b[39m) \u001b[38;5;129;01mand\u001b[39;00m \u001b[38;5;28misinstance\u001b[39m(\n\u001b[1;32m    112\u001b[0m     config_value, \u001b[38;5;28mstr\u001b[39m\n\u001b[1;32m    113\u001b[0m ):  \u001b[38;5;66;03m# TODO maybe move this to __setitem__ of AttributeDict?\u001b[39;00m\n\u001b[0;32m--> 114\u001b[0m     precision \u001b[38;5;241m=\u001b[39m \u001b[38;5;28;43mself\u001b[39;49m\u001b[38;5;241;43m.\u001b[39;49m\u001b[43mmodel\u001b[49m\u001b[38;5;241;43m.\u001b[39;49m\u001b[43mconfig\u001b[49m\u001b[38;5;241;43m.\u001b[39;49m\u001b[43mbackend\u001b[49m\u001b[38;5;241;43m.\u001b[39;49m\u001b[43mconvert_precision_string\u001b[49m\u001b[43m(\u001b[49m\u001b[43mconfig_value\u001b[49m\u001b[43m)\u001b[49m\n\u001b[1;32m    115\u001b[0m     config_value \u001b[38;5;241m=\u001b[39m NamedType(\u001b[38;5;28mself\u001b[39m\u001b[38;5;241m.\u001b[39mname \u001b[38;5;241m+\u001b[39m \u001b[38;5;124m'\u001b[39m\u001b[38;5;124m_\u001b[39m\u001b[38;5;124m'\u001b[39m \u001b[38;5;241m+\u001b[39m config_key, precision)\n\u001b[1;32m    116\u001b[0m \u001b[38;5;28mself\u001b[39m\u001b[38;5;241m.\u001b[39mattributes[config_key] \u001b[38;5;241m=\u001b[39m config_value\n",
      "File \u001b[0;32m~/tau_nn_conversion/hls4ml/hls4ml/backends/fpga/fpga_backend.py:299\u001b[0m, in \u001b[0;36mFPGABackend.convert_precision_string\u001b[0;34m(cls, precision)\u001b[0m\n\u001b[1;32m    297\u001b[0m     \u001b[38;5;28;01mreturn\u001b[39;00m \u001b[38;5;28mcls\u001b[39m\u001b[38;5;241m.\u001b[39m_convert_ac_type(precision)\n\u001b[1;32m    298\u001b[0m \u001b[38;5;28;01melse\u001b[39;00m:\n\u001b[0;32m--> 299\u001b[0m     \u001b[38;5;28;01mreturn\u001b[39;00m \u001b[38;5;28;43mcls\u001b[39;49m\u001b[38;5;241;43m.\u001b[39;49m\u001b[43m_convert_ap_type\u001b[49m\u001b[43m(\u001b[49m\u001b[43mprecision\u001b[49m\u001b[43m)\u001b[49m\n",
      "File \u001b[0;32m~/tau_nn_conversion/hls4ml/hls4ml/backends/fpga/fpga_backend.py:306\u001b[0m, in \u001b[0;36mFPGABackend._convert_ap_type\u001b[0;34m(cls, precision)\u001b[0m\n\u001b[1;32m    301\u001b[0m \u001b[38;5;129m@classmethod\u001b[39m\n\u001b[1;32m    302\u001b[0m \u001b[38;5;28;01mdef\u001b[39;00m \u001b[38;5;21m_convert_ap_type\u001b[39m(\u001b[38;5;28mcls\u001b[39m, precision):\n\u001b[1;32m    303\u001b[0m \u001b[38;5;250m    \u001b[39m\u001b[38;5;124;03m'''\u001b[39;00m\n\u001b[1;32m    304\u001b[0m \u001b[38;5;124;03m    Convert a precision string (e.g. \"ap_fixed<16,6>\" to the internal FixedPrecisionTypes etc)\u001b[39;00m\n\u001b[1;32m    305\u001b[0m \u001b[38;5;124;03m    '''\u001b[39;00m\n\u001b[0;32m--> 306\u001b[0m     bits \u001b[38;5;241m=\u001b[39m \u001b[43mre\u001b[49m\u001b[38;5;241;43m.\u001b[39;49m\u001b[43msearch\u001b[49m\u001b[43m(\u001b[49m\u001b[38;5;124;43m'\u001b[39;49m\u001b[38;5;124;43m.+<(.+?)>\u001b[39;49m\u001b[38;5;124;43m'\u001b[39;49m\u001b[43m,\u001b[49m\u001b[43m \u001b[49m\u001b[43mprecision\u001b[49m\u001b[43m)\u001b[49m\u001b[38;5;241;43m.\u001b[39;49m\u001b[43mgroup\u001b[49m(\u001b[38;5;241m1\u001b[39m)\u001b[38;5;241m.\u001b[39msplit(\u001b[38;5;124m'\u001b[39m\u001b[38;5;124m,\u001b[39m\u001b[38;5;124m'\u001b[39m)\n\u001b[1;32m    307\u001b[0m     sat_mode \u001b[38;5;241m=\u001b[39m \u001b[38;5;28;01mNone\u001b[39;00m\n\u001b[1;32m    308\u001b[0m     round_mode \u001b[38;5;241m=\u001b[39m \u001b[38;5;28;01mNone\u001b[39;00m\n",
      "\u001b[0;31mAttributeError\u001b[0m: 'NoneType' object has no attribute 'group'"
     ]
    }
   ],
   "source": [
    "# 'result' is input\n",
    "n_ops_list = [2025, 650, 390, 240, 160, 11]\n",
    "i = 0\n",
    "for layer_name in config['LayerName']:\n",
    "    #print(layer_name)\n",
    "    #print(config['LayerName'][layer_name])\n",
    "    #print(layer_name[:6])\n",
    "    if layer_name[len(layer_name) - 6:] != 'linear' and layer_name[:5] == \"Dense\":\n",
    "        print(config['LayerName'][layer_name])\n",
    "        input_width = int(config['LayerName'][layer_name]['Precision']['result'][6:8].strip(\",\"))\n",
    "        weight_width = int(config['LayerName'][layer_name]['Precision']['weight'][6:8].strip(\",\"))\n",
    "        bias_width = int(config['LayerName'][layer_name]['Precision']['bias'][6:8].strip(\",\"))\n",
    "        input_integers = int(config['LayerName'][layer_name]['Precision']['result'][9:10].strip(\">,\"))\n",
    "        weight_integers = int(config['LayerName'][layer_name]['Precision']['weight'][8:10].strip(\">,\"))\n",
    "        bias_integers = int(config['LayerName'][layer_name]['Precision']['bias'][8:10].strip(\">,\"))\n",
    "        print((input_width, weight_width, bias_width, input_integers, weight_integers, bias_integers))\n",
    "        n_ops = n_ops_list[i]\n",
    "        i += 1\n",
    "        total_bits=int(max(np.ceil(input_width + weight_width + np.log2(n_ops)), bias_width) + 1)\n",
    "        integer_bits=int(max(np.ceil(input_integers + weight_integers + np.log2(n_ops)), bias_integers) + 1)\n",
    "        print(total_bits)\n",
    "        print(integer_bits)\n",
    "        #config['LayerName'][layer_name]['accum_t'] = f'ap_fixed<{total_bits}, {integer_bits}>'\n",
    "        config['LayerName'][layer_name]['accum_t'] = 'float'\n",
    "\n",
    "acc_width_opt_model = hls4ml.converters.convert_from_keras_model(model,\n",
    "                                                       backend='Vitis',\n",
    "                                                       project_name='tau_nn', #I'm not very creative\n",
    "                                                       clock_period=2.8, #1/360MHz = 2.8ns\n",
    "                                                       hls_config=config,\n",
    "                                                       output_dir='hardwareII_COM/acc_width_optimize/hls4ml_prj',\n",
    "                                                       part='xcvu9p-flga2104-2L-e')\n",
    "\n",
    "\n",
    "# hls_model = hls4ml.converters.convert_from_keras_model(\n",
    "#     model, hls_config=config, output_dir='model_3/hls4ml_prj', part='xcu250-figd2104-2L-e'\n",
    "# )\n",
    "acc_width_opt_model.compile()\n",
    "\n",
    "acc_width_opt_model.build(csim=False)\n",
    "#hls4ml.converters.convert_from_keras_model"
   ]
  },
  {
   "cell_type": "code",
   "execution_count": 28,
   "id": "988824a5-7df7-40e8-a3f0-710567bcd36e",
   "metadata": {},
   "outputs": [
    {
     "name": "stdout",
     "output_type": "stream",
     "text": [
      "313/313 [==============================] - 0s 932us/step\n"
     ]
    },
    {
     "data": {
      "text/plain": [
       "array([0.03058304, 0.03700378, 0.02907966, ..., 0.03700378, 0.02907966,\n",
       "       0.02907966], dtype=float32)"
      ]
     },
     "execution_count": 28,
     "metadata": {},
     "output_type": "execute_result"
    }
   ],
   "source": [
    "y_qkeras = model.predict(np.ascontiguousarray(random_tensors))[0].flatten()\n",
    "y_hls = acc_width_opt_model.predict(np.ascontiguousarray(random_tensors))[0].flatten()\n",
    "y_qkeras"
   ]
  },
  {
   "cell_type": "code",
   "execution_count": 29,
   "id": "54638e3d-9bd1-43bd-b28f-67040f4c2a4a",
   "metadata": {},
   "outputs": [
    {
     "data": {
      "text/plain": [
       "array([0.03027344, 0.03710938, 0.02929688, ..., 0.04199219, 0.03222656,\n",
       "       0.02929688], dtype=float32)"
      ]
     },
     "execution_count": 29,
     "metadata": {},
     "output_type": "execute_result"
    }
   ],
   "source": [
    "y_hls"
   ]
  },
  {
   "cell_type": "code",
   "execution_count": 30,
   "id": "45505e82-1258-46bf-bff1-1300fdb58f22",
   "metadata": {},
   "outputs": [
    {
     "name": "stdout",
     "output_type": "stream",
     "text": [
      "0.59231603\n",
      "1.6354024e-06\n"
     ]
    }
   ],
   "source": [
    "print(np.max(abs(np.array(y_qkeras) - np.array(y_hls))))\n",
    "print(np.min(abs(np.array(y_qkeras) - np.array(y_hls))))\n",
    "y=abs(np.array(y_qkeras) - np.array(y_hls))"
   ]
  },
  {
   "cell_type": "code",
   "execution_count": 31,
   "id": "a284d022-9e30-4ad9-ab91-6d7869b8c178",
   "metadata": {},
   "outputs": [
    {
     "data": {
      "text/plain": [
       "(0.0, 0.05)"
      ]
     },
     "execution_count": 31,
     "metadata": {},
     "output_type": "execute_result"
    },
    {
     "data": {
      "image/png": "[encoded data removed]",
      "text/plain": [
       "<Figure size 1000x1000 with 1 Axes>"
      ]
     },
     "metadata": {},
     "output_type": "display_data"
    }
   ],
   "source": [
    "# Create x-coordinates for each bar\n",
    "x1 = np.arange(len(y_qkeras))\n",
    "x2 = np.arange(len(y_hls))\n",
    "\n",
    "#plt.bar(y, x1, color = \"black\")\n",
    "plt.hist(y, bins=1000, edgecolor='black')\n",
    "plt.xlim(0, 0.05)"
   ]
  },
  {
   "cell_type": "code",
   "execution_count": null,
   "id": "815627df-0c7f-40b5-9628-b85f2fdf1768",
   "metadata": {},
   "outputs": [],
   "source": []
  }
 ],
 "metadata": {
  "kernelspec": {
   "display_name": "Python 3 (ipykernel)",
   "language": "python",
   "name": "python3"
  },
  "language_info": {
   "codemirror_mode": {
    "name": "ipython",
    "version": 3
   },
   "file_extension": ".py",
   "mimetype": "text/x-python",
   "name": "python",
   "nbconvert_exporter": "python",
   "pygments_lexer": "ipython3",
   "version": "3.8.17"
  }
 },
 "nbformat": 4,
 "nbformat_minor": 5
}
